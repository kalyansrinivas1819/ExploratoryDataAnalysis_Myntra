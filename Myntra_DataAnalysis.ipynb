{
 "cells": [
  {
   "cell_type": "markdown",
   "id": "0707cebd",
   "metadata": {},
   "source": [
    "# \"Uncovering Insights: Exploratory Data Analysis of Myntra Dataset\""
   ]
  },
  {
   "cell_type": "markdown",
   "id": "0ae5c305",
   "metadata": {},
   "source": [
    "Myntra is a one-stop shop for all your fashion and lifestyle needs. Being India's largest e-commerce store for fashion and lifestyle products, Myntra aims at providing a hassle-free and enjoyable shopping experience to shoppers across the country with the widest range of brands and products on its portal. The brand is making a conscious effort to bring the power of fashion to shoppers with an array of the latest and trendiest products available in the country."
   ]
  },
  {
   "cell_type": "markdown",
   "id": "7d7c6264",
   "metadata": {},
   "source": [
    "Data Source : https://www.kaggle.com/datasets/ronakbokaria/myntra-products-dataset\n",
    "\n",
    "This dataset holds 1060213 (1060k) records. It is a product listing from Myntra.com till the period 04th May 2023."
   ]
  },
  {
   "cell_type": "markdown",
   "id": "0fa2fd36",
   "metadata": {},
   "source": [
    "### Problem Statement\n",
    "\n",
    "The problem statement in this analysis can be defined as understanding and exploring the key factors and relationships within a dataset containing information about products, sellers, ratings, prices, and discounts. "
   ]
  },
  {
   "cell_type": "markdown",
   "id": "553f7265",
   "metadata": {},
   "source": [
    "### Objective\n",
    "\n",
    "The objective is to gain insights into various aspects of the dataset, such as the distribution of product ratings, price variations, correlations between different variables, and the impact of ratings on discounts. The analysis aims to provide meaningful insights and suggestions for decision-making, such as identifying areas for improvement, optimizing pricing strategies, and understanding customer preferences."
   ]
  },
  {
   "cell_type": "markdown",
   "id": "5e3fae82",
   "metadata": {},
   "source": [
    "# 1. Import required Libraries here"
   ]
  },
  {
   "cell_type": "code",
   "execution_count": 1,
   "id": "c67a655c",
   "metadata": {},
   "outputs": [],
   "source": [
    "# import pandas\n",
    "import pandas as pd\n",
    "\n",
    "# import 'numpy' \n",
    "import numpy as np\n",
    "\n",
    "# import subpackage of matplotlib\n",
    "import matplotlib.pyplot as plt\n",
    "\n",
    "# import 'seaborn'\n",
    "import seaborn as sns\n",
    "\n",
    "# to suppress warnings \n",
    "from warnings import filterwarnings\n",
    "filterwarnings('ignore')"
   ]
  },
  {
   "cell_type": "markdown",
   "id": "fb746cea",
   "metadata": {},
   "source": [
    "# 2. Reading the csv file"
   ]
  },
  {
   "cell_type": "code",
   "execution_count": 2,
   "id": "b90347a7",
   "metadata": {},
   "outputs": [],
   "source": [
    "df = pd.read_csv('myntra202305041052.csv')"
   ]
  },
  {
   "cell_type": "markdown",
   "id": "886fa96e",
   "metadata": {},
   "source": [
    "### About the dataset "
   ]
  },
  {
   "cell_type": "markdown",
   "id": "f7e30cfe",
   "metadata": {},
   "source": [
    "- name: Name or description of the product.\n",
    "- img: URL or path to the image of the product.\n",
    "- asin: ASIN Standard Identification Number of the product. \n",
    "- price: Price of the product. \n",
    "- mrp: Maximum Retail Price (MRP) of the product.\n",
    "- rating: Rating of the product, on a scale of 0 to 5.\n",
    "- ratingTotal: Total number of ratings received by the product.\n",
    "- discount: Discount percentage offered on the product.\n",
    "- seller: Name of the seller or brand of the product.\n",
    "- purl: URL or link to the product on the e-commerce website."
   ]
  },
  {
   "cell_type": "markdown",
   "id": "6191c677",
   "metadata": {},
   "source": [
    "# 3. Data Quality Assessment"
   ]
  },
  {
   "cell_type": "markdown",
   "id": "608ee318",
   "metadata": {},
   "source": [
    "#### 3.1 Fetching first 5 rows from the dataset"
   ]
  },
  {
   "cell_type": "code",
   "execution_count": 3,
   "id": "1ff47806",
   "metadata": {},
   "outputs": [
    {
     "data": {
      "text/html": [
       "<div>\n",
       "<style scoped>\n",
       "    .dataframe tbody tr th:only-of-type {\n",
       "        vertical-align: middle;\n",
       "    }\n",
       "\n",
       "    .dataframe tbody tr th {\n",
       "        vertical-align: top;\n",
       "    }\n",
       "\n",
       "    .dataframe thead th {\n",
       "        text-align: right;\n",
       "    }\n",
       "</style>\n",
       "<table border=\"1\" class=\"dataframe\">\n",
       "  <thead>\n",
       "    <tr style=\"text-align: right;\">\n",
       "      <th></th>\n",
       "      <th>id</th>\n",
       "      <th>name</th>\n",
       "      <th>img</th>\n",
       "      <th>asin</th>\n",
       "      <th>price</th>\n",
       "      <th>mrp</th>\n",
       "      <th>rating</th>\n",
       "      <th>ratingTotal</th>\n",
       "      <th>discount</th>\n",
       "      <th>seller</th>\n",
       "      <th>purl</th>\n",
       "    </tr>\n",
       "  </thead>\n",
       "  <tbody>\n",
       "    <tr>\n",
       "      <th>0</th>\n",
       "      <td>1</td>\n",
       "      <td>Men Solid Oversized Cotton</td>\n",
       "      <td>https://assets.myntassets.com/f_webp,dpr_1.0,q...</td>\n",
       "      <td>-</td>\n",
       "      <td>532.0</td>\n",
       "      <td>1299.0</td>\n",
       "      <td>4.1</td>\n",
       "      <td>5300</td>\n",
       "      <td>59</td>\n",
       "      <td>Difference of Opinion</td>\n",
       "      <td>https://www.myntra.com/tshirts/difference-of-o...</td>\n",
       "    </tr>\n",
       "    <tr>\n",
       "      <th>1</th>\n",
       "      <td>2</td>\n",
       "      <td>Men Cotton Pure Cotton T-shirt</td>\n",
       "      <td>https://assets.myntassets.com/f_webp,dpr_1.0,q...</td>\n",
       "      <td>-</td>\n",
       "      <td>274.0</td>\n",
       "      <td>499.0</td>\n",
       "      <td>4.2</td>\n",
       "      <td>25400</td>\n",
       "      <td>45</td>\n",
       "      <td>Roadster</td>\n",
       "      <td>https://www.myntra.com/tshirts/roadster/roadst...</td>\n",
       "    </tr>\n",
       "    <tr>\n",
       "      <th>2</th>\n",
       "      <td>3</td>\n",
       "      <td>Women Pure Cotton T-shirt</td>\n",
       "      <td>https://assets.myntassets.com/f_webp,dpr_1.0,q...</td>\n",
       "      <td>-</td>\n",
       "      <td>551.0</td>\n",
       "      <td>1199.0</td>\n",
       "      <td>4.5</td>\n",
       "      <td>3400</td>\n",
       "      <td>54</td>\n",
       "      <td>DILLINGER</td>\n",
       "      <td>https://www.myntra.com/tshirts/dillinger/dilli...</td>\n",
       "    </tr>\n",
       "    <tr>\n",
       "      <th>3</th>\n",
       "      <td>4</td>\n",
       "      <td>Typography Print T-shirt</td>\n",
       "      <td>https://assets.myntassets.com/f_webp,dpr_1.0,q...</td>\n",
       "      <td>-</td>\n",
       "      <td>296.0</td>\n",
       "      <td>1099.0</td>\n",
       "      <td>4.0</td>\n",
       "      <td>18400</td>\n",
       "      <td>73</td>\n",
       "      <td>Huetrap</td>\n",
       "      <td>https://www.myntra.com/tshirts/huetrap/huetrap...</td>\n",
       "    </tr>\n",
       "    <tr>\n",
       "      <th>4</th>\n",
       "      <td>5</td>\n",
       "      <td>Printed Round Neck Pure Cotton T-shirt</td>\n",
       "      <td>https://assets.myntassets.com/f_webp,dpr_1.0,q...</td>\n",
       "      <td>-</td>\n",
       "      <td>494.0</td>\n",
       "      <td>899.0</td>\n",
       "      <td>4.2</td>\n",
       "      <td>3800</td>\n",
       "      <td>45</td>\n",
       "      <td>Roadster</td>\n",
       "      <td>https://www.myntra.com/tshirts/roadster/roadst...</td>\n",
       "    </tr>\n",
       "  </tbody>\n",
       "</table>\n",
       "</div>"
      ],
      "text/plain": [
       "   id                                    name  \\\n",
       "0   1              Men Solid Oversized Cotton   \n",
       "1   2          Men Cotton Pure Cotton T-shirt   \n",
       "2   3               Women Pure Cotton T-shirt   \n",
       "3   4                Typography Print T-shirt   \n",
       "4   5  Printed Round Neck Pure Cotton T-shirt   \n",
       "\n",
       "                                                 img asin  price     mrp  \\\n",
       "0  https://assets.myntassets.com/f_webp,dpr_1.0,q...    -  532.0  1299.0   \n",
       "1  https://assets.myntassets.com/f_webp,dpr_1.0,q...    -  274.0   499.0   \n",
       "2  https://assets.myntassets.com/f_webp,dpr_1.0,q...    -  551.0  1199.0   \n",
       "3  https://assets.myntassets.com/f_webp,dpr_1.0,q...    -  296.0  1099.0   \n",
       "4  https://assets.myntassets.com/f_webp,dpr_1.0,q...    -  494.0   899.0   \n",
       "\n",
       "   rating  ratingTotal  discount                 seller  \\\n",
       "0     4.1         5300        59  Difference of Opinion   \n",
       "1     4.2        25400        45               Roadster   \n",
       "2     4.5         3400        54              DILLINGER   \n",
       "3     4.0        18400        73                Huetrap   \n",
       "4     4.2         3800        45               Roadster   \n",
       "\n",
       "                                                purl  \n",
       "0  https://www.myntra.com/tshirts/difference-of-o...  \n",
       "1  https://www.myntra.com/tshirts/roadster/roadst...  \n",
       "2  https://www.myntra.com/tshirts/dillinger/dilli...  \n",
       "3  https://www.myntra.com/tshirts/huetrap/huetrap...  \n",
       "4  https://www.myntra.com/tshirts/roadster/roadst...  "
      ]
     },
     "execution_count": 3,
     "metadata": {},
     "output_type": "execute_result"
    }
   ],
   "source": [
    "df.head()"
   ]
  },
  {
   "cell_type": "markdown",
   "id": "d0f1824e",
   "metadata": {},
   "source": [
    "#### 3.2 Getting the shape of the dataset that is number of rows and columns"
   ]
  },
  {
   "cell_type": "code",
   "execution_count": 4,
   "id": "d58c8769",
   "metadata": {},
   "outputs": [
    {
     "data": {
      "text/plain": [
       "(1060213, 11)"
      ]
     },
     "execution_count": 4,
     "metadata": {},
     "output_type": "execute_result"
    }
   ],
   "source": [
    "df.shape"
   ]
  },
  {
   "cell_type": "markdown",
   "id": "af84efa0",
   "metadata": {},
   "source": [
    "#### 3.3 Getting the info of the dataset"
   ]
  },
  {
   "cell_type": "code",
   "execution_count": 5,
   "id": "6d609815",
   "metadata": {},
   "outputs": [
    {
     "name": "stdout",
     "output_type": "stream",
     "text": [
      "<class 'pandas.core.frame.DataFrame'>\n",
      "RangeIndex: 1060213 entries, 0 to 1060212\n",
      "Data columns (total 11 columns):\n",
      " #   Column       Non-Null Count    Dtype  \n",
      "---  ------       --------------    -----  \n",
      " 0   id           1060213 non-null  int64  \n",
      " 1   name         1060213 non-null  object \n",
      " 2   img          1060213 non-null  object \n",
      " 3   asin         1060213 non-null  object \n",
      " 4   price        1060213 non-null  float64\n",
      " 5   mrp          1060213 non-null  float64\n",
      " 6   rating       1060213 non-null  float64\n",
      " 7   ratingTotal  1060213 non-null  int64  \n",
      " 8   discount     1060213 non-null  int64  \n",
      " 9   seller       1060213 non-null  object \n",
      " 10  purl         1060213 non-null  object \n",
      "dtypes: float64(3), int64(3), object(5)\n",
      "memory usage: 89.0+ MB\n"
     ]
    }
   ],
   "source": [
    "df.info()"
   ]
  },
  {
   "cell_type": "markdown",
   "id": "f984171b",
   "metadata": {},
   "source": [
    "### Observations\n",
    "\n",
    "- **NULL VALUES** : We do not see any null values in our data\n",
    "- **CONSISTENCY** : The data is in consistent format.\n",
    "- **DATA TYPE** : `seller` is actually a categorical column. It will reduce the space required and will be easy while doing the analysis. "
   ]
  },
  {
   "cell_type": "markdown",
   "id": "0a846ca2",
   "metadata": {},
   "source": [
    "#### 3.4 MISSING VALUES"
   ]
  },
  {
   "cell_type": "code",
   "execution_count": 6,
   "id": "5d0e002f",
   "metadata": {},
   "outputs": [
    {
     "data": {
      "text/plain": [
       "id             0\n",
       "name           0\n",
       "img            0\n",
       "asin           0\n",
       "price          0\n",
       "mrp            0\n",
       "rating         0\n",
       "ratingTotal    0\n",
       "discount       0\n",
       "seller         0\n",
       "purl           0\n",
       "dtype: int64"
      ]
     },
     "execution_count": 6,
     "metadata": {},
     "output_type": "execute_result"
    }
   ],
   "source": [
    "df.isnull().sum()"
   ]
  },
  {
   "cell_type": "markdown",
   "id": "04aa22d2",
   "metadata": {},
   "source": [
    "There are no missing values!"
   ]
  },
  {
   "cell_type": "markdown",
   "id": "8f4e59a6",
   "metadata": {},
   "source": [
    "#### 3.5 DUPLICATES"
   ]
  },
  {
   "cell_type": "code",
   "execution_count": 7,
   "id": "6ceba440",
   "metadata": {},
   "outputs": [
    {
     "data": {
      "text/plain": [
       "0"
      ]
     },
     "execution_count": 7,
     "metadata": {},
     "output_type": "execute_result"
    }
   ],
   "source": [
    "df.duplicated().sum()"
   ]
  },
  {
   "cell_type": "markdown",
   "id": "9262d0e7",
   "metadata": {},
   "source": [
    "**Observation** - Data does not have any duplicates!"
   ]
  },
  {
   "cell_type": "markdown",
   "id": "0d0c84c2",
   "metadata": {},
   "source": [
    "# 4. Checking for consistency and validity"
   ]
  },
  {
   "cell_type": "code",
   "execution_count": 8,
   "id": "2b46ecd8",
   "metadata": {},
   "outputs": [
    {
     "data": {
      "text/plain": [
       "5496"
      ]
     },
     "execution_count": 8,
     "metadata": {},
     "output_type": "execute_result"
    }
   ],
   "source": [
    "df['seller'].nunique()"
   ]
  },
  {
   "cell_type": "markdown",
   "id": "0e48e75f",
   "metadata": {},
   "source": [
    "There are 5,496 sellers at Myntra"
   ]
  },
  {
   "cell_type": "code",
   "execution_count": 9,
   "id": "2f2b1314",
   "metadata": {},
   "outputs": [
    {
     "data": {
      "text/plain": [
       "1060213"
      ]
     },
     "execution_count": 9,
     "metadata": {},
     "output_type": "execute_result"
    }
   ],
   "source": [
    "df['id'].nunique()"
   ]
  },
  {
   "cell_type": "markdown",
   "id": "9f566318",
   "metadata": {},
   "source": [
    "There are 10,60,213 IDs in our dataset."
   ]
  },
  {
   "cell_type": "code",
   "execution_count": 10,
   "id": "72a2df8c",
   "metadata": {},
   "outputs": [
    {
     "data": {
      "text/plain": [
       "array(['-'], dtype=object)"
      ]
     },
     "execution_count": 10,
     "metadata": {},
     "output_type": "execute_result"
    }
   ],
   "source": [
    "df['asin'].unique()"
   ]
  },
  {
   "cell_type": "code",
   "execution_count": 11,
   "id": "2e2f7181",
   "metadata": {},
   "outputs": [
    {
     "data": {
      "text/plain": [
       "array([4.1, 4.2, 4.5, 4. , 3.9, 4.6, 4.3, 4.8, 4.4, 0. , 5. , 4.7, 3.8,\n",
       "       4.9, 3.7, 3.5, 3.6, 2.4, 3.2, 3.4, 2.6, 2.7, 3. , 3.3, 2.8, 3.1,\n",
       "       1. , 1.8, 2.5, 2.3, 2. , 2.2, 1.7, 2.1, 2.9, 1.5, 1.3, 1.9, 1.6,\n",
       "       1.4, 1.2, 1.1])"
      ]
     },
     "execution_count": 11,
     "metadata": {},
     "output_type": "execute_result"
    }
   ],
   "source": [
    "df['rating'].unique()"
   ]
  },
  {
   "cell_type": "code",
   "execution_count": 12,
   "id": "0607d0a3",
   "metadata": {},
   "outputs": [
    {
     "data": {
      "text/plain": [
       "array([  59,   45,   54, ..., 1253, 4440, 6401], dtype=int64)"
      ]
     },
     "execution_count": 12,
     "metadata": {},
     "output_type": "execute_result"
    }
   ],
   "source": [
    "df['discount'].unique()"
   ]
  },
  {
   "cell_type": "markdown",
   "id": "95ef62cc",
   "metadata": {},
   "source": [
    "### Observations\n",
    "\n",
    "- We can change the data type of `seller` and add them into category \n",
    "- We can drop the `image` and `product url` and `id` column and since there is no values for the `asin` column, we can drop that too\n",
    "- There is discrepancy in the column `discount` since 6401 can not be a discount number and we have to ensure that the column has the maximum value of 100. So we will replace the discount values that are above 100 with the mean of all the discounts below 100. This approach allows you to retain the rows and preserve the information they contain, while adjusting the invalid values to be within a valid range."
   ]
  },
  {
   "cell_type": "markdown",
   "id": "500fbcb3",
   "metadata": {},
   "source": [
    "# 5. DATA CLEANING "
   ]
  },
  {
   "cell_type": "code",
   "execution_count": 3,
   "id": "85e408ca",
   "metadata": {},
   "outputs": [],
   "source": [
    "#SELLER \n",
    "\n",
    "df['seller'] = df['seller'].astype('category')"
   ]
  },
  {
   "cell_type": "code",
   "execution_count": 4,
   "id": "773ad41c",
   "metadata": {},
   "outputs": [],
   "source": [
    "#DROPPING THE UNWANTED COLUMNS\n",
    "\n",
    "df.drop(['asin','img','purl','id'],axis=1,inplace = True)"
   ]
  },
  {
   "cell_type": "code",
   "execution_count": 5,
   "id": "095bb103",
   "metadata": {},
   "outputs": [
    {
     "data": {
      "text/plain": [
       "39.30210392689269"
      ]
     },
     "execution_count": 5,
     "metadata": {},
     "output_type": "execute_result"
    }
   ],
   "source": [
    "#DISCOUNT \n",
    "\n",
    "mean_discount_below_100 = df[df['discount'] <= 100]['discount'].mean()\n",
    "mean_discount_below_100"
   ]
  },
  {
   "cell_type": "code",
   "execution_count": 6,
   "id": "25e8165d",
   "metadata": {},
   "outputs": [],
   "source": [
    "df.loc[df['discount'] > 100, 'discount'] = mean_discount_below_100"
   ]
  },
  {
   "cell_type": "markdown",
   "id": "3c010e25",
   "metadata": {},
   "source": [
    "## Questions to answer \n",
    "\n",
    "1. Top 5 seller who has the most products \n",
    "2. Top 5 products with highest ratings \n",
    "3. What is the average rating of products in the dataset?\n",
    "4. Is there any correlationship between the total ratings and the ratings for the product \n",
    "5. What is the distribution of the product ratings?\n",
    "6. How does the price vary across different products?\n",
    "7. What is the average discount offered by each seller? \n",
    "8. Are there any correlations between price, rating, and discount?\n",
    "9. How does the price compare to the MRP (Maximum Retail Price)?\n",
    "10.How does the rating of a product affect the discount percentage offered?\n",
    "11. How is the distribution of discount column?"
   ]
  },
  {
   "cell_type": "markdown",
   "id": "7a9ae566",
   "metadata": {},
   "source": [
    "# 6. EXPLORATORY DATA ANALYSIS "
   ]
  },
  {
   "cell_type": "markdown",
   "id": "a7a8f5cd",
   "metadata": {},
   "source": [
    "### 6.1 Top 5 seller who has the most products"
   ]
  },
  {
   "cell_type": "code",
   "execution_count": 17,
   "id": "dbdd4b62",
   "metadata": {},
   "outputs": [
    {
     "data": {
      "text/plain": [
       "Roadster                 10651\n",
       "H&M                       6667\n",
       "Puma                      6579\n",
       "max                       6486\n",
       "Anouk                     6158\n",
       "                         ...  \n",
       "Keraglam Professional        1\n",
       "Kedar Fab                    1\n",
       "Signature Sole               1\n",
       "YASWARA                      1\n",
       "Little Kiki                  1\n",
       "Name: seller, Length: 5496, dtype: int64"
      ]
     },
     "execution_count": 17,
     "metadata": {},
     "output_type": "execute_result"
    }
   ],
   "source": [
    "seller_counts = df['seller'].value_counts()\n",
    "seller_counts"
   ]
  },
  {
   "cell_type": "code",
   "execution_count": 18,
   "id": "67b71daf",
   "metadata": {},
   "outputs": [
    {
     "data": {
      "text/plain": [
       "Roadster    10651\n",
       "H&M          6667\n",
       "Puma         6579\n",
       "max          6486\n",
       "Anouk        6158\n",
       "Name: seller, dtype: int64"
      ]
     },
     "execution_count": 18,
     "metadata": {},
     "output_type": "execute_result"
    }
   ],
   "source": [
    "top_5_sellers = seller_counts.head()\n",
    "top_5_sellers"
   ]
  },
  {
   "cell_type": "code",
   "execution_count": 19,
   "id": "e5a5312a",
   "metadata": {},
   "outputs": [
    {
     "data": {
      "image/png": "[encoded data removed]",
      "text/plain": [
       "<Figure size 720x432 with 1 Axes>"
      ]
     },
     "metadata": {
      "needs_background": "light"
     },
     "output_type": "display_data"
    }
   ],
   "source": [
    "plt.figure(figsize=(10,6))\n",
    "plt.bar(x = top_5_sellers.index,height= top_5_sellers)\n",
    "plt.title('Top 5 sellers at Myntra')\n",
    "plt.xlabel('Brands')\n",
    "plt.ylabel('Number of products')\n",
    "for i, v in enumerate(top_5_sellers):\n",
    "    plt.text(i, v, str(v), ha='center', va='bottom')\n",
    "plt.show()"
   ]
  },
  {
   "cell_type": "markdown",
   "id": "62b36721",
   "metadata": {},
   "source": [
    "### 6.2 Top 5 products with highest ratings"
   ]
  },
  {
   "cell_type": "code",
   "execution_count": 20,
   "id": "8f3fd7d5",
   "metadata": {},
   "outputs": [],
   "source": [
    "# Assuming your DataFrame is named 'df'\n",
    "highest_ratings = df.groupby('name')['ratingTotal'].max().nlargest(5)"
   ]
  },
  {
   "cell_type": "code",
   "execution_count": 21,
   "id": "8c0b5c2b",
   "metadata": {},
   "outputs": [
    {
     "data": {
      "text/plain": [
       "name\n",
       "Toner-Lotion-Cream-Lip Balm              76400\n",
       "Men Pack of 2 Printed T-shirt            75100\n",
       "Unisex Skin Care Gift Set                72700\n",
       "Pack Of 2 Printed T-shirts               72600\n",
       "Pack Of 2 Printed Pure Cotton T-shirt    72500\n",
       "Name: ratingTotal, dtype: int64"
      ]
     },
     "execution_count": 21,
     "metadata": {},
     "output_type": "execute_result"
    }
   ],
   "source": [
    "highest_ratings"
   ]
  },
  {
   "cell_type": "code",
   "execution_count": 22,
   "id": "bb5d6d05",
   "metadata": {},
   "outputs": [],
   "source": [
    "#we found a descripancy in the name column so we removed the values which are null \n",
    "\n",
    "df.drop(df[df['name'] == '-'].index, inplace=True)"
   ]
  },
  {
   "cell_type": "code",
   "execution_count": 23,
   "id": "d572a9f7",
   "metadata": {},
   "outputs": [
    {
     "data": {
      "image/png": "[encoded data removed]",
      "text/plain": [
       "<Figure size 720x432 with 1 Axes>"
      ]
     },
     "metadata": {
      "needs_background": "light"
     },
     "output_type": "display_data"
    }
   ],
   "source": [
    "plt.figure(figsize=(10,6))\n",
    "plt.bar(x =highest_ratings.index, height = highest_ratings)\n",
    "plt.xticks(rotation=90)\n",
    "plt.title('Top 5 products with highest ratings on Myntra')\n",
    "plt.xlabel('Products')\n",
    "plt.ylabel('Total ratings count')\n",
    "for i, v in enumerate(highest_ratings):\n",
    "    plt.text(i, v, str(v), ha='center', va='bottom')\n",
    "plt.show()"
   ]
  },
  {
   "cell_type": "markdown",
   "id": "79c5140f",
   "metadata": {},
   "source": [
    "### 6.3 What is the average rating for sellers?"
   ]
  },
  {
   "cell_type": "code",
   "execution_count": 24,
   "id": "ad341478",
   "metadata": {},
   "outputs": [],
   "source": [
    "average_ratings = df.groupby('seller')['rating'].mean()\n",
    "\n",
    "sorted_ratings = average_ratings.sort_values(ascending = False)"
   ]
  },
  {
   "cell_type": "code",
   "execution_count": 25,
   "id": "964fca91",
   "metadata": {},
   "outputs": [],
   "source": [
    "#checking the avearge rating of the top 10 sellers after sorting\n",
    "\n",
    "top_10_sellers_with_highest_average_ratings = sorted_ratings.head(10)"
   ]
  },
  {
   "cell_type": "code",
   "execution_count": 26,
   "id": "ab8cf269",
   "metadata": {},
   "outputs": [
    {
     "data": {
      "image/png": "[encoded data removed]",
      "text/plain": [
       "<Figure size 720x432 with 1 Axes>"
      ]
     },
     "metadata": {
      "needs_background": "light"
     },
     "output_type": "display_data"
    }
   ],
   "source": [
    "plt.figure(figsize=(10,6))\n",
    "plt.bar(x = top_10_sellers_with_highest_average_ratings.index, height = top_10_sellers_with_highest_average_ratings)\n",
    "plt.xticks(rotation=90)\n",
    "plt.title('Top 10 sellers with highest average ratings')\n",
    "plt.xlabel('Sellers')\n",
    "plt.ylabel('Rating')\n",
    "for i, v in enumerate(top_10_sellers_with_highest_average_ratings):\n",
    "    plt.text(i, v, str(v), ha='center', va='bottom')\n",
    "plt.show()"
   ]
  },
  {
   "cell_type": "markdown",
   "id": "5ad2d321",
   "metadata": {},
   "source": [
    "### 6.4 Is there any relationship between the total ratings and the ratings for the product?"
   ]
  },
  {
   "cell_type": "code",
   "execution_count": 12,
   "id": "e6aea2ab",
   "metadata": {},
   "outputs": [
    {
     "name": "stdout",
     "output_type": "stream",
     "text": [
      "Correlation Coefficient: 0.10\n"
     ]
    }
   ],
   "source": [
    "correlation_coefficient = df['ratingTotal'].corr(df['rating'])\n",
    "\n",
    "print(\"Correlation Coefficient: {:.2f}\".format(correlation_coefficient))"
   ]
  },
  {
   "cell_type": "code",
   "execution_count": 13,
   "id": "7159f149",
   "metadata": {},
   "outputs": [
    {
     "data": {
      "image/png": "[encoded data removed]",
      "text/plain": [
       "<Figure size 432x288 with 1 Axes>"
      ]
     },
     "metadata": {
      "needs_background": "light"
     },
     "output_type": "display_data"
    }
   ],
   "source": [
    "plt.scatter(df['ratingTotal'], df['rating'])\n",
    "plt.title('Correlation between Total Ratings and Product Ratings')\n",
    "plt.xlabel('Total Ratings')\n",
    "plt.ylabel('Product Ratings')\n",
    "plt.show()"
   ]
  },
  {
   "cell_type": "markdown",
   "id": "54edba64",
   "metadata": {},
   "source": [
    "The correlation coefficient of 0.10 indicates a relatively weak relationship, meaning that the relationship is not very strong or significant.\n",
    "\n",
    "It's important to note that correlation does not imply causation. While there is a positive correlation between the total ratings and the product ratings, it does not necessarily mean that the total ratings directly cause or influence the product ratings. There may be other factors at play that contribute to the overall ratings of the products.\n",
    "\n",
    "Therefore, based on the correlation coefficient of 0.10, we can infer that there is a weak positive relationship between the total ratings and the ratings for each product, but other factors may have a more significant impact on the product ratings."
   ]
  },
  {
   "cell_type": "markdown",
   "id": "254fb73e",
   "metadata": {},
   "source": [
    "### 6.5 What is the distribution of the product ratings?"
   ]
  },
  {
   "cell_type": "code",
   "execution_count": 14,
   "id": "78674234",
   "metadata": {},
   "outputs": [
    {
     "name": "stdout",
     "output_type": "stream",
     "text": [
      "Mean Rating:  1.0601497057669311\n",
      "Median Rating:  0.0\n",
      "Mode Rating:  0    0.0\n",
      "dtype: float64\n",
      "Standard Deviation of Ratings:  1.8296315775273873\n",
      "Minimum Rating:  0.0\n",
      "Maximum Rating:  5.0\n"
     ]
    }
   ],
   "source": [
    "rating_mean = df['rating'].mean()\n",
    "rating_median = df['rating'].median()\n",
    "rating_mode = df['rating'].mode()\n",
    "rating_std = df['rating'].std()\n",
    "rating_min = df['rating'].min()\n",
    "rating_max = df['rating'].max()\n",
    "\n",
    "print(\"Mean Rating: \", rating_mean)\n",
    "print(\"Median Rating: \", rating_median)\n",
    "print(\"Mode Rating: \", rating_mode)\n",
    "print(\"Standard Deviation of Ratings: \", rating_std)\n",
    "print(\"Minimum Rating: \", rating_min)\n",
    "print(\"Maximum Rating: \", rating_max)"
   ]
  },
  {
   "cell_type": "code",
   "execution_count": 28,
   "id": "d19f9129",
   "metadata": {},
   "outputs": [
    {
     "data": {
      "image/png": "[encoded data removed]",
      "text/plain": [
       "<Figure size 432x288 with 1 Axes>"
      ]
     },
     "metadata": {
      "needs_background": "light"
     },
     "output_type": "display_data"
    }
   ],
   "source": [
    "plt.hist(df['rating'], bins=10, edgecolor='black')\n",
    "\n",
    "plt.xlabel('Rating')\n",
    "plt.ylabel('Frequency')\n",
    "plt.title('Distribution of Product Ratings')\n",
    "\n",
    "plt.show()"
   ]
  },
  {
   "cell_type": "markdown",
   "id": "f35b6861",
   "metadata": {},
   "source": [
    "### 6.6 How does the price vary across different products?"
   ]
  },
  {
   "cell_type": "code",
   "execution_count": 31,
   "id": "297832bb",
   "metadata": {},
   "outputs": [
    {
     "name": "stdout",
     "output_type": "stream",
     "text": [
      "Mean: 1536.235155341426\n",
      "Median: 811.0\n",
      "Mode: 599.0\n"
     ]
    }
   ],
   "source": [
    "mean_price = np.mean(df['price'])\n",
    "median_price = np.median(df['price'])\n",
    "mode_price = df['price'].mode().values[0]\n",
    "\n",
    "\n",
    "print('Mean:', mean_price)\n",
    "print('Median:', median_price)\n",
    "print('Mode:', mode_price)\n"
   ]
  },
  {
   "cell_type": "code",
   "execution_count": 25,
   "id": "9096837f",
   "metadata": {},
   "outputs": [
    {
     "data": {
      "image/png": "[encoded data removed]",
      "text/plain": [
       "<Figure size 864x720 with 1 Axes>"
      ]
     },
     "metadata": {
      "needs_background": "light"
     },
     "output_type": "display_data"
    }
   ],
   "source": [
    "plt.figure(figsize=(12, 10))\n",
    "plt.boxplot(df['price'])\n",
    "plt.xlabel('Products')\n",
    "plt.ylabel('Price')\n",
    "plt.title('Variation of Prices across Products')\n",
    "plt.show()"
   ]
  },
  {
   "cell_type": "markdown",
   "id": "e83a7dfb",
   "metadata": {},
   "source": [
    "The distribution of product prices in the dataset exhibits a right-skewed pattern. This is evident from the statistical measures:\n",
    "\n",
    "Mean: 1536.24\n",
    "\n",
    "Median: 811.0\n",
    "\n",
    "Mode: 599.0\n",
    "\n",
    "The mean (average) price is higher than the median, indicating that the distribution is influenced by a few higher-priced products. The mode represents the most frequently occurring price in the dataset.\n",
    "\n",
    "Additionally, the presence of outliers in the price data is suggested by the box plot, which shows values that lie significantly above the upper whisker. These outliers may correspond to products with exceptionally high prices.\n",
    "\n",
    "Overall, this suggests that while the majority of products are priced around the median value, there is a subset of products with higher prices, contributing to the right-skewness and the presence of outliers in the price distribution"
   ]
  },
  {
   "cell_type": "markdown",
   "id": "ce83686e",
   "metadata": {},
   "source": [
    "### 6.7 What is the average discount offered by each seller?"
   ]
  },
  {
   "cell_type": "code",
   "execution_count": 9,
   "id": "a95df046",
   "metadata": {},
   "outputs": [],
   "source": [
    "average_discounts = round(df.groupby('seller')['discount'].mean().sort_values(ascending=False),2)"
   ]
  },
  {
   "cell_type": "code",
   "execution_count": 10,
   "id": "72361571",
   "metadata": {},
   "outputs": [
    {
     "data": {
      "text/html": [
       "<div>\n",
       "<style scoped>\n",
       "    .dataframe tbody tr th:only-of-type {\n",
       "        vertical-align: middle;\n",
       "    }\n",
       "\n",
       "    .dataframe tbody tr th {\n",
       "        vertical-align: top;\n",
       "    }\n",
       "\n",
       "    .dataframe thead th {\n",
       "        text-align: right;\n",
       "    }\n",
       "</style>\n",
       "<table border=\"1\" class=\"dataframe\">\n",
       "  <thead>\n",
       "    <tr style=\"text-align: right;\">\n",
       "      <th></th>\n",
       "      <th>Average Discount</th>\n",
       "    </tr>\n",
       "    <tr>\n",
       "      <th>seller</th>\n",
       "      <th></th>\n",
       "    </tr>\n",
       "  </thead>\n",
       "  <tbody>\n",
       "    <tr>\n",
       "      <th>Kord Store</th>\n",
       "      <td>88.73</td>\n",
       "    </tr>\n",
       "    <tr>\n",
       "      <th>Little Kiki</th>\n",
       "      <td>87.00</td>\n",
       "    </tr>\n",
       "    <tr>\n",
       "      <th>CLEMIRA</th>\n",
       "      <td>87.00</td>\n",
       "    </tr>\n",
       "    <tr>\n",
       "      <th>TRENDY RABBIT</th>\n",
       "      <td>86.99</td>\n",
       "    </tr>\n",
       "    <tr>\n",
       "      <th>WM</th>\n",
       "      <td>86.64</td>\n",
       "    </tr>\n",
       "    <tr>\n",
       "      <th>White World</th>\n",
       "      <td>86.61</td>\n",
       "    </tr>\n",
       "    <tr>\n",
       "      <th>Silk Land</th>\n",
       "      <td>85.97</td>\n",
       "    </tr>\n",
       "    <tr>\n",
       "      <th>aadita</th>\n",
       "      <td>84.19</td>\n",
       "    </tr>\n",
       "    <tr>\n",
       "      <th>AMI</th>\n",
       "      <td>84.04</td>\n",
       "    </tr>\n",
       "    <tr>\n",
       "      <th>TRE&amp;PASS</th>\n",
       "      <td>84.00</td>\n",
       "    </tr>\n",
       "    <tr>\n",
       "      <th>SAADHVI</th>\n",
       "      <td>83.83</td>\n",
       "    </tr>\n",
       "    <tr>\n",
       "      <th>STEORRA JEWELS</th>\n",
       "      <td>83.38</td>\n",
       "    </tr>\n",
       "    <tr>\n",
       "      <th>FOUR STAR TRUCK SALES</th>\n",
       "      <td>83.00</td>\n",
       "    </tr>\n",
       "    <tr>\n",
       "      <th>NAKABH</th>\n",
       "      <td>82.79</td>\n",
       "    </tr>\n",
       "    <tr>\n",
       "      <th>Atasi International</th>\n",
       "      <td>82.71</td>\n",
       "    </tr>\n",
       "    <tr>\n",
       "      <th>Silk Bazar</th>\n",
       "      <td>82.45</td>\n",
       "    </tr>\n",
       "    <tr>\n",
       "      <th>Ozanoo</th>\n",
       "      <td>81.92</td>\n",
       "    </tr>\n",
       "    <tr>\n",
       "      <th>Zaveri Pearls</th>\n",
       "      <td>81.84</td>\n",
       "    </tr>\n",
       "    <tr>\n",
       "      <th>Globon Impex</th>\n",
       "      <td>81.76</td>\n",
       "    </tr>\n",
       "    <tr>\n",
       "      <th>Shining Diva</th>\n",
       "      <td>81.45</td>\n",
       "    </tr>\n",
       "    <tr>\n",
       "      <th>VeBNoR</th>\n",
       "      <td>81.00</td>\n",
       "    </tr>\n",
       "    <tr>\n",
       "      <th>Mactree</th>\n",
       "      <td>81.00</td>\n",
       "    </tr>\n",
       "    <tr>\n",
       "      <th>JEWEL WORLD</th>\n",
       "      <td>80.73</td>\n",
       "    </tr>\n",
       "    <tr>\n",
       "      <th>Fentacia</th>\n",
       "      <td>80.59</td>\n",
       "    </tr>\n",
       "    <tr>\n",
       "      <th>GORGONE</th>\n",
       "      <td>80.44</td>\n",
       "    </tr>\n",
       "    <tr>\n",
       "      <th>VIRAASI</th>\n",
       "      <td>80.38</td>\n",
       "    </tr>\n",
       "    <tr>\n",
       "      <th>Emmie</th>\n",
       "      <td>80.21</td>\n",
       "    </tr>\n",
       "    <tr>\n",
       "      <th>AfroJack</th>\n",
       "      <td>80.17</td>\n",
       "    </tr>\n",
       "    <tr>\n",
       "      <th>Florence</th>\n",
       "      <td>80.14</td>\n",
       "    </tr>\n",
       "    <tr>\n",
       "      <th>PARKHA</th>\n",
       "      <td>80.02</td>\n",
       "    </tr>\n",
       "  </tbody>\n",
       "</table>\n",
       "</div>"
      ],
      "text/plain": [
       "                       Average Discount\n",
       "seller                                 \n",
       "Kord Store                        88.73\n",
       "Little Kiki                       87.00\n",
       "CLEMIRA                           87.00\n",
       "TRENDY RABBIT                     86.99\n",
       "WM                                86.64\n",
       "White World                       86.61\n",
       "Silk Land                         85.97\n",
       "aadita                            84.19\n",
       "AMI                               84.04\n",
       "TRE&PASS                          84.00\n",
       "SAADHVI                           83.83\n",
       "STEORRA JEWELS                    83.38\n",
       "FOUR STAR TRUCK SALES             83.00\n",
       "NAKABH                            82.79\n",
       "Atasi International               82.71\n",
       "Silk Bazar                        82.45\n",
       "Ozanoo                            81.92\n",
       "Zaveri Pearls                     81.84\n",
       "Globon Impex                      81.76\n",
       "Shining Diva                      81.45\n",
       "VeBNoR                            81.00\n",
       "Mactree                           81.00\n",
       "JEWEL WORLD                       80.73\n",
       "Fentacia                          80.59\n",
       "GORGONE                           80.44\n",
       "VIRAASI                           80.38\n",
       "Emmie                             80.21\n",
       "AfroJack                          80.17\n",
       "Florence                          80.14\n",
       "PARKHA                            80.02"
      ]
     },
     "execution_count": 10,
     "metadata": {},
     "output_type": "execute_result"
    }
   ],
   "source": [
    "df_average_discounts = pd.DataFrame({'Average Discount': average_discounts})\n",
    "\n",
    "df_average_discounts.head(30)"
   ]
  },
  {
   "cell_type": "markdown",
   "id": "d11801a2",
   "metadata": {},
   "source": [
    "### 6.8 Are there any correlations between price, rating, and discount?"
   ]
  },
  {
   "cell_type": "code",
   "execution_count": 11,
   "id": "2f5e7ab2",
   "metadata": {},
   "outputs": [
    {
     "name": "stdout",
     "output_type": "stream",
     "text": [
      "             price    rating  discount\n",
      "price     1.000000 -0.101084 -0.200730\n",
      "rating   -0.101084  1.000000  0.047831\n",
      "discount -0.200730  0.047831  1.000000\n"
     ]
    },
    {
     "data": {
      "image/png": "[encoded data removed]",
      "text/plain": [
       "<Figure size 576x432 with 2 Axes>"
      ]
     },
     "metadata": {
      "needs_background": "light"
     },
     "output_type": "display_data"
    }
   ],
   "source": [
    "correlation_data = df[['price', 'rating', 'discount']]\n",
    "\n",
    "correlation_matrix = correlation_data.corr()\n",
    "\n",
    "print(correlation_matrix)\n",
    "\n",
    "plt.figure(figsize=(8, 6))\n",
    "sns.heatmap(correlation_matrix, annot=True, cmap='coolwarm', linewidths=0.5)\n",
    "plt.title('Correlation Matrix')\n",
    "plt.show()"
   ]
  },
  {
   "cell_type": "markdown",
   "id": "e9e2d54f",
   "metadata": {},
   "source": [
    "In summary, the analysis shows that there is a slight tendency for higher-priced products to have lower ratings, while higher-priced products also tend to have larger discounts. However, the correlations are relatively weak, indicating that other factors may play a more influential role in determining the rating, price, and discount of products."
   ]
  },
  {
   "cell_type": "markdown",
   "id": "1777907d",
   "metadata": {},
   "source": [
    "### 6.9 How does the price compare to the MRP (Maximum Retail Price)?"
   ]
  },
  {
   "cell_type": "code",
   "execution_count": 50,
   "id": "6eb86b19",
   "metadata": {},
   "outputs": [
    {
     "data": {
      "image/png": "[encoded data removed]",
      "text/plain": [
       "<Figure size 432x288 with 1 Axes>"
      ]
     },
     "metadata": {
      "needs_background": "light"
     },
     "output_type": "display_data"
    }
   ],
   "source": [
    "plt.scatter(df['price'], df['mrp'])\n",
    "plt.xlabel('Price')\n",
    "plt.ylabel('MRP')\n",
    "plt.title('Price vs MRP')\n",
    "plt.show()"
   ]
  },
  {
   "cell_type": "markdown",
   "id": "f870bd55",
   "metadata": {},
   "source": [
    "### 6.10 How does the rating of a product affect the discount percentage offered?"
   ]
  },
  {
   "cell_type": "code",
   "execution_count": 62,
   "id": "c0d31678",
   "metadata": {},
   "outputs": [
    {
     "name": "stdout",
     "output_type": "stream",
     "text": [
      "Correlation coefficient: 0.04783081123557821\n"
     ]
    },
    {
     "data": {
      "image/png": "[encoded data removed]",
      "text/plain": [
       "<Figure size 432x288 with 1 Axes>"
      ]
     },
     "metadata": {
      "needs_background": "light"
     },
     "output_type": "display_data"
    }
   ],
   "source": [
    "correlation = df['rating'].corr(df['discount'])\n",
    "print(\"Correlation coefficient:\", correlation)\n",
    "\n",
    "plt.scatter(df['rating'], df['discount'])\n",
    "plt.title('Rating vs. Discount Percentage')\n",
    "plt.xlabel('Rating')\n",
    "plt.ylabel('Discount Percentage')\n",
    "plt.show()"
   ]
  },
  {
   "cell_type": "markdown",
   "id": "7de65821",
   "metadata": {},
   "source": [
    "The correlation coefficient between the rating and discount percentage is 0.048, which indicates a very weak positive correlation. This means that there is a slight tendency for products with higher ratings to have slightly higher discount percentages, but the relationship is not strong. Therefore, there is no significant or meaningful correlation between the rating of a product and the discount percentage offered. This indicates that there is a lack of variability or spread in the data, which can make it difficult to identify any clear pattern or correlation between the variables. In this case, the dense scatter plot suggests that there is no strong relationship between the rating and discount percentage, as most data points are concentrated around a specific range of values and do not show a distinct trend."
   ]
  },
  {
   "cell_type": "markdown",
   "id": "bcc8e316",
   "metadata": {},
   "source": [
    "### 6.11 How is the distribution of discount column?"
   ]
  },
  {
   "cell_type": "code",
   "execution_count": 52,
   "id": "150c297c",
   "metadata": {},
   "outputs": [
    {
     "name": "stdout",
     "output_type": "stream",
     "text": [
      "Mean Discount Percentage: 39.30210392687948\n",
      "Median Discount Percentage: 40.0\n",
      "Standard Deviation of Discount Percentage: 26.161178084748588\n"
     ]
    }
   ],
   "source": [
    "discount_percentages = df['discount']\n",
    "\n",
    "mean_discount = discount_percentages.mean()\n",
    "median_discount = discount_percentages.median()\n",
    "std_discount = discount_percentages.std()\n",
    "\n",
    "print(\"Mean Discount Percentage:\", mean_discount)\n",
    "print(\"Median Discount Percentage:\", median_discount)\n",
    "print(\"Standard Deviation of Discount Percentage:\", std_discount)"
   ]
  },
  {
   "cell_type": "code",
   "execution_count": 55,
   "id": "a1a0ff0f",
   "metadata": {},
   "outputs": [
    {
     "data": {
      "image/png": "[encoded data removed]",
      "text/plain": [
       "<Figure size 432x288 with 1 Axes>"
      ]
     },
     "metadata": {
      "needs_background": "light"
     },
     "output_type": "display_data"
    }
   ],
   "source": [
    "# Filter out rows with 0% discount\n",
    "non_zero_discounts = df[df['discount'] != 0]['discount']\n",
    "\n",
    "# Plot the distribution\n",
    "plt.hist(non_zero_discounts, bins=10)\n",
    "plt.title(\"Distribution of Discount Percentages\")\n",
    "plt.xlabel(\"Discount Percentage\")\n",
    "plt.ylabel(\"Count\")\n",
    "plt.show()\n"
   ]
  },
  {
   "cell_type": "markdown",
   "id": "53244343",
   "metadata": {},
   "source": [
    "## INFERENCES\n",
    "\n",
    "1. Product Ratings: The distribution of product ratings indicates that the majority of products have ratings between 3.5 and 4.5. This suggests that most products are generally well-received by customers. However, there are also a significant number of products with ratings below 3.5, indicating potential areas for improvement in product quality or customer satisfaction.\n",
    "\n",
    "2. Price Variation: The analysis of price variation across different products reveals a wide range of prices. It is important to further investigate the factors influencing price differences, such as product features, brand reputation, or material quality. This information can be useful for pricing strategies, competitive analysis, and identifying pricing outliers that may require adjustment.\n",
    "\n",
    "3. Correlation Analysis: The correlation analysis between price, rating, and discount reveals interesting insights. There is a weak negative correlation between price and rating, suggesting that higher-priced products may not always have higher ratings. Additionally, the correlation between rating and discount is very weak, indicating that the discount offered on a product is not significantly influenced by its rating.\n",
    "\n",
    "Based on these findings, here are some general suggestions:\n",
    "\n",
    "- Monitor and analyze customer reviews and feedback to identify areas for product improvement and customer satisfaction enhancement.\n",
    "- Explore the factors contributing to price variations and consider adjusting pricing strategies accordingly.\n",
    "- Consider offering targeted discounts or promotional offers based on factors other than product ratings alone, as the correlation between rating and discount is weak.\n",
    "- Regularly update and maintain the dataset to ensure data integrity and accuracy for future analyses.\n",
    "- Further investigate the outliers in the price and discount distribution to identify any anomalies or opportunities for optimization."
   ]
  }
 ],
 "metadata": {
  "kernelspec": {
   "display_name": "Python 3 (ipykernel)",
   "language": "python",
   "name": "python3"
  },
  "language_info": {
   "codemirror_mode": {
    "name": "ipython",
    "version": 3
   },
   "file_extension": ".py",
   "mimetype": "text/x-python",
   "name": "python",
   "nbconvert_exporter": "python",
   "pygments_lexer": "ipython3",
   "version": "3.9.7"
  }
 },
 "nbformat": 4,
 "nbformat_minor": 5
}
